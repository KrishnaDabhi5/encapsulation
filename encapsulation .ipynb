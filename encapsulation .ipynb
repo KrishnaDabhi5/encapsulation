{
 "cells": [
  {
   "cell_type": "code",
   "execution_count": 1,
   "id": "417754fb",
   "metadata": {},
   "outputs": [],
   "source": [
    "class test:\n",
    "    def __init__(self , a, b):\n",
    "        self.a = a\n",
    "        self.b = b\n",
    "        "
   ]
  },
  {
   "cell_type": "code",
   "execution_count": 2,
   "id": "c58d2ccc",
   "metadata": {},
   "outputs": [],
   "source": [
    "t = test(23,34)"
   ]
  },
  {
   "cell_type": "code",
   "execution_count": 3,
   "id": "e57e63b2",
   "metadata": {},
   "outputs": [],
   "source": [
    "t.a = 454356"
   ]
  },
  {
   "cell_type": "code",
   "execution_count": 4,
   "id": "757f2ba1",
   "metadata": {},
   "outputs": [
    {
     "data": {
      "text/plain": [
       "454356"
      ]
     },
     "execution_count": 4,
     "metadata": {},
     "output_type": "execute_result"
    }
   ],
   "source": [
    "t.a"
   ]
  },
  {
   "cell_type": "code",
   "execution_count": 10,
   "id": "d2bd07e1",
   "metadata": {},
   "outputs": [],
   "source": [
    "class car :\n",
    "    def __init__(self,year,make,model,speed):\n",
    "        self.__year = year\n",
    "        self.__make = make\n",
    "        self.__model = model\n",
    "        self.__speed = 0\n",
    "    \n",
    "    def set_speed(self,speed):\n",
    "        self.__speed = 0 if speed < 0 else speed\n",
    "    \n",
    "    def get_speed(self):\n",
    "        return self.__speed"
   ]
  },
  {
   "cell_type": "code",
   "execution_count": 11,
   "id": "05604bb7",
   "metadata": {},
   "outputs": [],
   "source": [
    "c = car(2021,\"toyata\",\"supra\",400)"
   ]
  },
  {
   "cell_type": "code",
   "execution_count": 9,
   "id": "cebca341",
   "metadata": {},
   "outputs": [
    {
     "data": {
      "text/plain": [
       "2021"
      ]
     },
     "execution_count": 9,
     "metadata": {},
     "output_type": "execute_result"
    }
   ],
   "source": [
    "c._car__year"
   ]
  },
  {
   "cell_type": "code",
   "execution_count": 12,
   "id": "51c72eed",
   "metadata": {},
   "outputs": [],
   "source": [
    "c.set_speed(-564)"
   ]
  },
  {
   "cell_type": "code",
   "execution_count": 13,
   "id": "d0794965",
   "metadata": {},
   "outputs": [
    {
     "data": {
      "text/plain": [
       "0"
      ]
     },
     "execution_count": 13,
     "metadata": {},
     "output_type": "execute_result"
    }
   ],
   "source": [
    "c.get_speed()"
   ]
  },
  {
   "cell_type": "code",
   "execution_count": 14,
   "id": "4b68cba7",
   "metadata": {},
   "outputs": [],
   "source": [
    "c.set_speed(542)"
   ]
  },
  {
   "cell_type": "code",
   "execution_count": 15,
   "id": "83ad002b",
   "metadata": {},
   "outputs": [
    {
     "data": {
      "text/plain": [
       "542"
      ]
     },
     "execution_count": 15,
     "metadata": {},
     "output_type": "execute_result"
    }
   ],
   "source": [
    "c.get_speed()"
   ]
  },
  {
   "cell_type": "code",
   "execution_count": 17,
   "id": "02a3035d",
   "metadata": {},
   "outputs": [],
   "source": [
    "#it hide function for user \n",
    "#they can't see the data and can't update it."
   ]
  },
  {
   "cell_type": "code",
   "execution_count": 21,
   "id": "962d9216",
   "metadata": {},
   "outputs": [],
   "source": [
    "class bank_account:\n",
    "    def __init__(self, balance):\n",
    "        self.__balance = balance\n",
    "        \n",
    "    def deposite(self, amount):\n",
    "        self.__balance = self.__balance + amount\n",
    "    \n",
    "    def withdrow (self, amount):\n",
    "        if self.__balance >= amount:\n",
    "            self.__balance = self.__balance - amount\n",
    "            return True\n",
    "        else:\n",
    "            return False\n",
    "    \n",
    "    def get_balance(self):\n",
    "        return self.__balance"
   ]
  },
  {
   "cell_type": "code",
   "execution_count": 22,
   "id": "82af18cd",
   "metadata": {},
   "outputs": [],
   "source": [
    "krishna = bank_account(1000)"
   ]
  },
  {
   "cell_type": "code",
   "execution_count": 23,
   "id": "ad4f68b1",
   "metadata": {},
   "outputs": [
    {
     "data": {
      "text/plain": [
       "1000"
      ]
     },
     "execution_count": 23,
     "metadata": {},
     "output_type": "execute_result"
    }
   ],
   "source": [
    "krishna.get_balance()"
   ]
  },
  {
   "cell_type": "code",
   "execution_count": 24,
   "id": "75229552",
   "metadata": {},
   "outputs": [],
   "source": [
    "krishna.deposite(6000)"
   ]
  },
  {
   "cell_type": "code",
   "execution_count": 25,
   "id": "4bb0733d",
   "metadata": {},
   "outputs": [
    {
     "data": {
      "text/plain": [
       "7000"
      ]
     },
     "execution_count": 25,
     "metadata": {},
     "output_type": "execute_result"
    }
   ],
   "source": [
    "krishna.get_balance()"
   ]
  },
  {
   "cell_type": "code",
   "execution_count": 26,
   "id": "349fa710",
   "metadata": {},
   "outputs": [
    {
     "data": {
      "text/plain": [
       "True"
      ]
     },
     "execution_count": 26,
     "metadata": {},
     "output_type": "execute_result"
    }
   ],
   "source": [
    "krishna.withdrow(2000)"
   ]
  },
  {
   "cell_type": "code",
   "execution_count": 27,
   "id": "9c451ac8",
   "metadata": {},
   "outputs": [
    {
     "data": {
      "text/plain": [
       "5000"
      ]
     },
     "execution_count": 27,
     "metadata": {},
     "output_type": "execute_result"
    }
   ],
   "source": [
    "krishna.get_balance()"
   ]
  },
  {
   "cell_type": "code",
   "execution_count": 28,
   "id": "48b1466e",
   "metadata": {},
   "outputs": [
    {
     "data": {
      "text/plain": [
       "False"
      ]
     },
     "execution_count": 28,
     "metadata": {},
     "output_type": "execute_result"
    }
   ],
   "source": [
    "krishna.withdrow(9000)"
   ]
  },
  {
   "cell_type": "code",
   "execution_count": null,
   "id": "03db8dd3",
   "metadata": {},
   "outputs": [],
   "source": []
  }
 ],
 "metadata": {
  "kernelspec": {
   "display_name": "Python 3 (ipykernel)",
   "language": "python",
   "name": "python3"
  },
  "language_info": {
   "codemirror_mode": {
    "name": "ipython",
    "version": 3
   },
   "file_extension": ".py",
   "mimetype": "text/x-python",
   "name": "python",
   "nbconvert_exporter": "python",
   "pygments_lexer": "ipython3",
   "version": "3.10.8"
  }
 },
 "nbformat": 4,
 "nbformat_minor": 5
}
